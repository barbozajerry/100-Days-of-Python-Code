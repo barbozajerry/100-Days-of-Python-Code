{
  "nbformat": 4,
  "nbformat_minor": 0,
  "metadata": {
    "colab": {
      "name": "1-10_DaysOfCode.ipynb",
      "private_outputs": true,
      "provenance": []
    },
    "kernelspec": {
      "name": "python3",
      "display_name": "Python 3"
    },
    "language_info": {
      "name": "python"
    }
  },
  "cells": [
    {
      "cell_type": "code",
      "execution_count": null,
      "metadata": {
        "id": "q0k0-ot0JMyT"
      },
      "outputs": [],
      "source": [
        ""
      ]
    },
    {
      "cell_type": "markdown",
      "source": [
        "100 Days of Code \n"
      ],
      "metadata": {
        "id": "QSUW-4Rz8UmK"
      }
    },
    {
      "cell_type": "markdown",
      "source": [
        "Day 1\n",
        "\n",
        "\n"
      ],
      "metadata": {
        "id": "mut46geo8bF3"
      }
    },
    {
      "cell_type": "code",
      "source": [
        "major1 = input(\"First degree: \")\n",
        "school1 = input(\"University Name: \")\n",
        "major2 = input(\"Second degree: \")\n",
        "school2 = input(\"University Name: \")\n",
        "print(\"I studied \" + major1 + \"from \" + school1 + \n",
        "      \" and\\n\" + major2 + \" from \" + school2 + \".\")"
      ],
      "metadata": {
        "id": "bRORaZIC8jc9"
      },
      "execution_count": null,
      "outputs": []
    },
    {
      "cell_type": "markdown",
      "source": [
        "Day 2"
      ],
      "metadata": {
        "id": "qPq94nWn_pi-"
      }
    },
    {
      "cell_type": "code",
      "source": [
        "print(\"Welcome to the tip calculator!\")\n",
        "bill = float(input(\"What was the total bill $ \"))\n",
        "tip = int(input(\"How much tip would you like to give? 10,12, or 15?: % \"))\n",
        "people = int(input(\"How many people to split the bill?: \"))\n",
        "tip_as_percent = tip / 100 \n",
        "totak_tip_amount = bill * tip_as_percent\n",
        "total_bill = bill + totak_tip_amount \n",
        "bill_per_person = total_bill / people \n",
        "# rounds to 2 decimal places\n",
        "final_amount = round(bill_per_person, 2)\n",
        "print(f\"Each person should pay: ${final_amount}\")\n",
        "\n"
      ],
      "metadata": {
        "id": "qaMOQwO1MB4y"
      },
      "execution_count": null,
      "outputs": []
    },
    {
      "cell_type": "markdown",
      "source": [
        "Day 3"
      ],
      "metadata": {
        "id": "6skEzv5CO0hb"
      }
    },
    {
      "cell_type": "code",
      "source": [
        "print('''\n",
        "*******************************************************************************\n",
        "          |                   |                  |                     |\n",
        " _________|________________.=\"\"_;=.______________|_____________________|_______\n",
        "|                   |  ,-\"_,=\"\"     `\"=.|                  |\n",
        "|___________________|__\"=._o`\"-._        `\"=.______________|___________________\n",
        "          |                `\"=._o`\"=._      _`\"=._                     |\n",
        " _________|_____________________:=._o \"=._.\"_.-=\"'\"=.__________________|_______\n",
        "|                   |    __.--\" , ; `\"=._o.\" ,-\"\"\"-._ \".   |\n",
        "|___________________|_._\"  ,. .` ` `` ,  `\"-._\"-._   \". '__|___________________\n",
        "          |           |o`\"=._` , \"` `; .\". ,  \"-._\"-._; ;              |\n",
        " _________|___________| ;`-.o`\"=._; .\" ` '`.\"\\` . \"-._ /_______________|_______\n",
        "|                   | |o;    `\"-.o`\"=._``  '` \" ,__.--o;   |\n",
        "|___________________|_| ;     (#) `-.o `\"=.`_.--\"_o.-; ;___|___________________\n",
        "____/______/______/___|o;._    \"      `\".o|o_.--\"    ;o;____/______/______/____\n",
        "/______/______/______/_\"=._o--._        ; | ;        ; ;/______/______/______/_\n",
        "____/______/______/______/__\"=._o--._   ;o|o;     _._;o;____/______/______/____\n",
        "/______/______/______/______/____\"=._o._; | ;_.--\"o.--\"_/______/______/______/_\n",
        "____/______/______/______/______/_____\"=.o|o_.--\"\"___/______/______/______/____\n",
        "/______/______/______/______/______/______/______/______/______/______/______/\n",
        "*******************************************************************************\n",
        "''')\n",
        "print(\"Welcome to Treasure Island.\")\n",
        "print(\"Your mission is to find the treasure.\")\n",
        "choice1 = input('You\\'re at a crossroad, where do you want to go? Type \"left\" or \"right\".: ').lower()\n",
        "\n",
        "if choice1 == \"left\": \n",
        "  choice2 = input('You\\'ve come to a lake. There is an island in the middle of the lake.\\\n",
        "  \\n Type \"wait\" to wait for a boat. Type \"swim\" to swim across.: ').lower()\n",
        "  if choice2 == \"wait\": \n",
        "    choice3 = input(\"You arrive at the island unharmed. There is a house with 3 doors. \\n One red, \\\n",
        "    one yellow and one blue. Which colour do you choose?: \").lower()\n",
        "    if choice3 == \"red\": \n",
        "      print(\"It's a room full of fire. Game Over!\")\n",
        "    elif choice3 == \"yellow\": \n",
        "      print(\"You found the treasure! You Win!\")\n",
        "    elif choice3 == \"blue\": \n",
        "      print(\"You enter a room of toxic gas. Game Over!\")\n",
        "  else: \n",
        "      print(\"You chose a door that doesn't exist. Game Over!\")\n",
        "else:  \n",
        "  print(\"You got attacked by an angry Dragon. Game Over!\")\n"
      ],
      "metadata": {
        "id": "wLDrx1ZjO2pc"
      },
      "execution_count": null,
      "outputs": []
    },
    {
      "cell_type": "markdown",
      "source": [
        "Day 4"
      ],
      "metadata": {
        "id": "QFm9tUakfbau"
      }
    },
    {
      "cell_type": "code",
      "source": [
        "import random\n",
        "rock = '''\n",
        "    _______\n",
        "---'   ____)\n",
        "      (_____)\n",
        "      (_____)\n",
        "      (____)\n",
        "---.__(___)\n",
        "'''\n",
        "\n",
        "# Paper\n",
        "paper = '''\n",
        "     _______\n",
        "---'    ____)____\n",
        "           ______)\n",
        "          _______)\n",
        "         _______)\n",
        "---.__________)\n",
        "'''\n",
        "\n",
        "# Scissors\n",
        "scissors = '''\n",
        "    _______\n",
        "---'   ____)____\n",
        "          ______)\n",
        "       __________)\n",
        "      (____)\n",
        "---.__(___)\n",
        "'''\n",
        "game_images = [rock, paper, scissors]\n",
        "\n",
        "user_choice = int(input(\"What do you choose? Type 0 for Rock, 1 for Paper or 2 for Scissors.\\n\"))\n",
        "\n",
        "if user_choice >= 3 or user_choice < 0: \n",
        "  print(\"You typed an invalid number, you lose!\")\n",
        "else: print(game_images[user_choice])\n",
        "\n",
        "computer_choice = random.randint(0, 2)\n",
        "print(\"Computer chose: \" )\n",
        "print(game_images[computer_choice])\n",
        "\n",
        "\n",
        "if user_choice == 0 and computer_choice == 2: \n",
        "  print(\"You win!\")\n",
        "elif computer_choice == 0 and user_choice == 2: \n",
        "  print(\"You lose!\")\n",
        "elif computer_choice > user_choice: \n",
        "  print(\"You lose!\")\n",
        "elif user_choice > computer_choice: \n",
        "  print(\"You win\")\n",
        "elif computer_choice == user_choice: \n",
        "  print(\"It's a draw\")\n"
      ],
      "metadata": {
        "id": "YMOztgSUfcww"
      },
      "execution_count": null,
      "outputs": []
    },
    {
      "cell_type": "markdown",
      "source": [
        "Day 5: Password Generator"
      ],
      "metadata": {
        "id": "2g6vpK84oTK3"
      }
    },
    {
      "cell_type": "code",
      "source": [
        "import random \n",
        "letters = ['a', 'b', 'c', 'd', 'e', 'f', 'g', 'h', 'i', 'j', 'k', 'l', 'm', 'n',\n",
        "           'o', 'p', 'q', 'r', 's', 't', 'u', 'v', 'w', 'x', 'y', 'z','A', 'B', 'C', \n",
        "           'D', 'E', 'F', 'G', 'H', 'I', 'J', 'K', 'L', 'M', 'N', 'O', 'P', 'Q', 'R', \n",
        "           'S', 'T', 'U', 'V', 'W', 'X', 'Y', 'Z']\n",
        "numbers = ['0','1','2','3','4','5','6','7','8','9']\n",
        "symbols = ['!', '#', '$', '%', '&', '(', ')', '*', '+']\n",
        "\n",
        "print(\"Welcome to the PyPassword Generator.\")\n",
        "nr_letters = int(input(\"How many letters would you like in your password?\\n\"))\n",
        "nr_symbols = int(input(f\"How many symbols would you like?\\n\"))\n",
        "nr_numbers = int(input(f\"How many numbers would you like?\\n\"))\n",
        "\n",
        "#password = \"\"\n",
        "\n",
        "#for char in range(1, nr_letters + 1): \n",
        " # password += random.choice(letters)\n",
        "\n",
        "#for char in range(1, nr_symbols + 1): \n",
        "#  password += random.choice(symbols)\n",
        "\n",
        "#for char in range(1, nr_numbers + 1): \n",
        "#  password += random.choice(numbers)\n",
        " \n",
        "#print(password)\n",
        "\n",
        "#Hard way \n",
        "password_list = []\n",
        "\n",
        "for char in range(1, nr_letters + 1): \n",
        "  password_list.append(random.choice(letters))\n",
        "\n",
        "for char in range(1, nr_symbols + 1): \n",
        "  password_list += random.choice(symbols)\n",
        "\n",
        "for char in range(1, nr_numbers + 1): \n",
        "  password_list += random.choice(numbers)\n",
        " \n",
        "print(password_list)\n",
        "random.shuffle(password_list)\n",
        "print(password_list)\n",
        "\n",
        "password = \"\"\n",
        "for char in password_list: \n",
        "  password += char \n",
        "\n",
        "print(f\"\\nYour password is: {password}\")\n",
        "\n"
      ],
      "metadata": {
        "id": "wtd1oFz2pm17"
      },
      "execution_count": null,
      "outputs": []
    },
    {
      "cell_type": "markdown",
      "source": [
        "Day 7: Hangman"
      ],
      "metadata": {
        "id": "XQEbD6nB-30d"
      }
    },
    {
      "cell_type": "code",
      "source": [
        "#Step 4\n",
        "\n",
        "import random\n",
        "\n",
        "stages = ['''\n",
        "  +---+\n",
        "  |   |\n",
        "  O   |\n",
        " /|\\  |\n",
        " / \\  |\n",
        "      |\n",
        "=========\n",
        "''', '''\n",
        "  +---+\n",
        "  |   |\n",
        "  O   |\n",
        " /|\\  |\n",
        " /    |\n",
        "      |\n",
        "=========\n",
        "''', '''\n",
        "  +---+\n",
        "  |   |\n",
        "  O   |\n",
        " /|\\  |\n",
        "      |\n",
        "      |\n",
        "=========\n",
        "''', '''\n",
        "  +---+\n",
        "  |   |\n",
        "  O   |\n",
        " /|   |\n",
        "      |\n",
        "      |\n",
        "=========''', '''\n",
        "  +---+\n",
        "  |   |\n",
        "  O   |\n",
        "  |   |\n",
        "      |\n",
        "      |\n",
        "=========\n",
        "''', '''\n",
        "  +---+\n",
        "  |   |\n",
        "  O   |\n",
        "      |\n",
        "      |\n",
        "      |\n",
        "=========\n",
        "''', '''\n",
        "  +---+\n",
        "  |   |\n",
        "      |\n",
        "      |\n",
        "      |\n",
        "      |\n",
        "=========\n",
        "''']\n",
        "\n",
        "end_of_game = False\n",
        "word_list = [\"ardvark\", \"baboon\", \"camel\"]\n",
        "chosen_word = random.choice(word_list)\n",
        "word_length = len(chosen_word)\n",
        "\n",
        "#TODO-1: - Create a variable called 'lives' to keep track of the number of lives left. \n",
        "#Set 'lives' to equal 6.\n",
        "lives = 6\n",
        "\n",
        "#Testing code\n",
        "print(f'Pssst, the solution is {chosen_word}.')\n",
        "\n",
        "#Create blanks\n",
        "display = []\n",
        "for _ in range(word_length):\n",
        "    display += \"_\"\n",
        "\n",
        "while not end_of_game:\n",
        "    guess = input(\"Guess a letter: \").lower()\n",
        "\n",
        "    #Check guessed letter\n",
        "    for position in range(word_length):\n",
        "        letter = chosen_word[position]\n",
        "       # print(f\"Current position: {position}\\n Current letter: {letter}\\n Guessed letter: {guess}\")\n",
        "        if letter == guess:\n",
        "            display[position] = letter\n",
        "\n",
        "    #TODO-2: - If guess is not a letter in the chosen_word,\n",
        "    #Then reduce 'lives' by 1. \n",
        "    #If lives goes down to 0 then the game should stop and it should print \"You lose.\"\n",
        "    if guess not in chosen_word:\n",
        "        lives -= 1\n",
        "        if lives == 0:\n",
        "            end_of_game = True\n",
        "            print(\"You lose.\")\n",
        "\n",
        "    #Join all the elements in the list and turn it into a String.\n",
        "    print(f\"{' '.join(display)}\")\n",
        "\n",
        "    #Check if user has got all letters.\n",
        "    if \"_\" not in display:\n",
        "        end_of_game = True\n",
        "        print(\"You win.\")\n",
        "\n",
        "    #TODO-3: - print the ASCII art from 'stages' that corresponds to the current number of 'lives' the user has remaining.\n",
        "    print(stages[lives])\n"
      ],
      "metadata": {
        "id": "SJtK7_-w_Aim"
      },
      "execution_count": null,
      "outputs": []
    },
    {
      "cell_type": "code",
      "source": [
        "\n"
      ],
      "metadata": {
        "id": "LDtBbq4Jle_M"
      },
      "execution_count": null,
      "outputs": []
    }
  ]
}